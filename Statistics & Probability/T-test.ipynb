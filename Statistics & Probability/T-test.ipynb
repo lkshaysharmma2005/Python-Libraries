{
 "cells": [
  {
   "cell_type": "code",
   "execution_count": 1,
   "id": "f1d351f1-5500-4604-888d-7df0192eeecf",
   "metadata": {},
   "outputs": [],
   "source": [
    "import numpy as np \n",
    "from scipy import stats"
   ]
  },
  {
   "cell_type": "code",
   "execution_count": 4,
   "id": "904a711a-cea0-49a9-9b28-d434fd595fa0",
   "metadata": {},
   "outputs": [],
   "source": [
    "sample = [172,174,168,169,171,173,175,170,169,172]\n",
    "sample_mean = np.mean(sample)\n",
    "sample_std = np.std(sample,ddof = 1)\n",
    "n = len(sample) \n",
    "population_mean = 170"
   ]
  },
  {
   "cell_type": "code",
   "execution_count": 5,
   "id": "cff5380b-720f-4ca6-990d-52183ba71502",
   "metadata": {},
   "outputs": [
    {
     "data": {
      "text/plain": [
       "np.float64(1.7782469350914734)"
      ]
     },
     "execution_count": 5,
     "metadata": {},
     "output_type": "execute_result"
    }
   ],
   "source": [
    "t_stats = (sample_mean-population_mean)/(sample_std/np.sqrt(n))\n",
    "t_stats"
   ]
  },
  {
   "cell_type": "code",
   "execution_count": 6,
   "id": "b28cd74d-91ea-40cc-8c7f-f19460b69dd7",
   "metadata": {},
   "outputs": [
    {
     "data": {
      "text/plain": [
       "np.float64(0.10907771593031335)"
      ]
     },
     "execution_count": 6,
     "metadata": {},
     "output_type": "execute_result"
    }
   ],
   "source": [
    "p_value = 2 * (1- stats.t.cdf(abs(t_stats),df = n-1))\n",
    "p_value"
   ]
  },
  {
   "cell_type": "code",
   "execution_count": 7,
   "id": "535cf405-cfd1-4063-9289-c24ec0c3662c",
   "metadata": {},
   "outputs": [
    {
     "name": "stdout",
     "output_type": "stream",
     "text": [
      "I will accept Null hypothesis\n"
     ]
    }
   ],
   "source": [
    "alpha = 0.05  ### if p_value is less than alpha then we reject the null hypothesis and vice versa\n",
    "\n",
    "if p_value < alpha:\n",
    "    print(\"I will reject Null hypothesis\")\n",
    "else:\n",
    "    print(\"I will accept Null hypothesis\")"
   ]
  },
  {
   "cell_type": "code",
   "execution_count": null,
   "id": "0bc80133-625d-46c0-a606-2cf1a7dd359c",
   "metadata": {},
   "outputs": [],
   "source": []
  }
 ],
 "metadata": {
  "kernelspec": {
   "display_name": "Python [conda env:base] *",
   "language": "python",
   "name": "conda-base-py"
  },
  "language_info": {
   "codemirror_mode": {
    "name": "ipython",
    "version": 3
   },
   "file_extension": ".py",
   "mimetype": "text/x-python",
   "name": "python",
   "nbconvert_exporter": "python",
   "pygments_lexer": "ipython3",
   "version": "3.13.5"
  }
 },
 "nbformat": 4,
 "nbformat_minor": 5
}
