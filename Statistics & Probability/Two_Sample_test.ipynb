{
 "cells": [
  {
   "cell_type": "code",
   "execution_count": 1,
   "id": "f65e47b5-7106-46ec-a9c5-b748a8e049bd",
   "metadata": {},
   "outputs": [],
   "source": [
    "import numpy as np \n",
    "from scipy import stats"
   ]
  },
  {
   "cell_type": "code",
   "execution_count": 2,
   "id": "bd9f95d9-b2ba-4b27-988a-e7948fcc0983",
   "metadata": {},
   "outputs": [],
   "source": [
    "group_A = [85, 88, 90, 92, 87, 85, 89, 91, 86, 88]\n",
    "group_B = [82, 84, 80, 83, 81, 79, 78, 85, 84, 83]\n",
    "\n",
    "t_stats, p_value = stats.ttest_ind(group_A, group_B, equal_var=False)"
   ]
  },
  {
   "cell_type": "code",
   "execution_count": 3,
   "id": "58fddf26-fe24-4180-b945-179eefd3f4fa",
   "metadata": {},
   "outputs": [
    {
     "data": {
      "text/plain": [
       "np.float64(5.829604009507161)"
      ]
     },
     "execution_count": 3,
     "metadata": {},
     "output_type": "execute_result"
    }
   ],
   "source": [
    "t_stats"
   ]
  },
  {
   "cell_type": "code",
   "execution_count": 5,
   "id": "1a4da44c-10eb-4a4c-bde8-98f9d8af05f5",
   "metadata": {},
   "outputs": [],
   "source": [
    "# Define the two groups\n",
    "group_A = [85, 88, 90, 92, 87, 85, 89, 91, 86, 88]\n",
    "group_B = [82, 84, 80, 83, 81, 79, 78, 85, 84, 83]\n",
    "\n",
    "# Perform independent two-sample t-test (Welch’s t-test since equal_var=False)\n",
    "t_stats, p_value = stats.ttest_ind(group_A, group_B, equal_var=False)"
   ]
  },
  {
   "cell_type": "code",
   "execution_count": null,
   "id": "762d1aa6-9c76-453d-b0ed-d15314d7e8ca",
   "metadata": {},
   "outputs": [],
   "source": []
  }
 ],
 "metadata": {
  "kernelspec": {
   "display_name": "Python [conda env:base] *",
   "language": "python",
   "name": "conda-base-py"
  },
  "language_info": {
   "codemirror_mode": {
    "name": "ipython",
    "version": 3
   },
   "file_extension": ".py",
   "mimetype": "text/x-python",
   "name": "python",
   "nbconvert_exporter": "python",
   "pygments_lexer": "ipython3",
   "version": "3.13.5"
  }
 },
 "nbformat": 4,
 "nbformat_minor": 5
}
