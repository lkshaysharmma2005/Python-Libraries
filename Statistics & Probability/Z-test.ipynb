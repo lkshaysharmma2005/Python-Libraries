{
 "cells": [
  {
   "cell_type": "code",
   "execution_count": 1,
   "id": "f88e1fee-44d9-48d2-b5f7-ae0daed0e07f",
   "metadata": {},
   "outputs": [],
   "source": [
    "import numpy as np\n",
    "from scipy.stats import norm"
   ]
  },
  {
   "cell_type": "code",
   "execution_count": 2,
   "id": "4da65fa2-9450-4042-9311-5a51d3be5bd2",
   "metadata": {},
   "outputs": [],
   "source": [
    "sample = [172,174,168,169,171,173,175,170,169,172]"
   ]
  },
  {
   "cell_type": "code",
   "execution_count": 4,
   "id": "d5d052d9-1859-417c-b162-4a2c823f7072",
   "metadata": {},
   "outputs": [],
   "source": [
    "population_mean = 170\n",
    "population_std = 3 \n",
    "samp_mean = np.mean(sample)\n",
    "n = len(sample)"
   ]
  },
  {
   "cell_type": "code",
   "execution_count": 5,
   "id": "25ddcdd3-4996-40d6-9035-ee8ed07e24df",
   "metadata": {},
   "outputs": [
    {
     "data": {
      "text/plain": [
       "np.float64(1.3703203194063098)"
      ]
     },
     "execution_count": 5,
     "metadata": {},
     "output_type": "execute_result"
    }
   ],
   "source": [
    "z_score = (samp_mean - population_mean)/(population_std/np.sqrt(n))\n",
    "z_score"
   ]
  },
  {
   "cell_type": "code",
   "execution_count": 6,
   "id": "18b7fd5c-5e1f-4784-91fe-f076da3bb378",
   "metadata": {},
   "outputs": [
    {
     "data": {
      "text/plain": [
       "np.float64(0.17058693287143756)"
      ]
     },
     "execution_count": 6,
     "metadata": {},
     "output_type": "execute_result"
    }
   ],
   "source": [
    "p_value = 2 * (1-norm.cdf(abs(z_score)))\n",
    "p_value"
   ]
  },
  {
   "cell_type": "code",
   "execution_count": 7,
   "id": "c815913a-7d11-4951-9237-25d135263d72",
   "metadata": {},
   "outputs": [
    {
     "name": "stdout",
     "output_type": "stream",
     "text": [
      "I will accept Null hypothesis\n"
     ]
    }
   ],
   "source": [
    "alpha = 0.05  ### if p_value is less than alpha then we reject the null hypothesis and vice versa\n",
    "\n",
    "if p_value < alpha:\n",
    "    print(\"I will reject Null hypothesis\")\n",
    "else:\n",
    "    print(\"I will accept Null hypothesis\")"
   ]
  },
  {
   "cell_type": "code",
   "execution_count": null,
   "id": "f2f2a49e-2943-47c7-8df2-690baf8fb962",
   "metadata": {},
   "outputs": [],
   "source": []
  }
 ],
 "metadata": {
  "kernelspec": {
   "display_name": "Python [conda env:base] *",
   "language": "python",
   "name": "conda-base-py"
  },
  "language_info": {
   "codemirror_mode": {
    "name": "ipython",
    "version": 3
   },
   "file_extension": ".py",
   "mimetype": "text/x-python",
   "name": "python",
   "nbconvert_exporter": "python",
   "pygments_lexer": "ipython3",
   "version": "3.13.5"
  }
 },
 "nbformat": 4,
 "nbformat_minor": 5
}
