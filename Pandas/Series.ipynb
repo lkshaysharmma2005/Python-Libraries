{
 "cells": [
  {
   "cell_type": "markdown",
   "id": "4b95e934-37c0-43d2-84cf-e265edc6ac87",
   "metadata": {},
   "source": [
    "## A Pandas Series is a one-dimensional labeled array capable of holding any data type (integers, strings, floats, etc.).\n",
    "\n",
    "By default, it has a numeric index starting from 0.\n",
    "\n",
    "You can also give it custom index labels.\n",
    "\n",
    "You can even create a Series from a dictionary, where keys become the index and values become the data.\n",
    "\n",
    "The axis labels of a Series are collectively called the index."
   ]
  },
  {
   "cell_type": "code",
   "execution_count": 1,
   "id": "d4e81e24-a31e-4605-a9e3-e6137195857c",
   "metadata": {},
   "outputs": [],
   "source": [
    "import numpy as np\n",
    "import pandas as pd"
   ]
  },
  {
   "cell_type": "code",
   "execution_count": 2,
   "id": "3739c47e-df03-441b-9166-0a43a09d8448",
   "metadata": {},
   "outputs": [],
   "source": [
    "labels = ['a','b','c']\n",
    "my_list = [10,20,30]\n",
    "arr = np.array([10,20,30])\n",
    "d = {1:10,2:20,3:30}"
   ]
  },
  {
   "cell_type": "code",
   "execution_count": 3,
   "id": "a331a82c-b56f-4528-bffb-465ab312c4bf",
   "metadata": {
    "editable": true,
    "slideshow": {
     "slide_type": ""
    },
    "tags": []
   },
   "outputs": [
    {
     "data": {
      "text/plain": [
       "0    10\n",
       "1    20\n",
       "2    30\n",
       "dtype: int64"
      ]
     },
     "execution_count": 3,
     "metadata": {},
     "output_type": "execute_result"
    }
   ],
   "source": [
    "pd.Series(my_list)"
   ]
  },
  {
   "cell_type": "code",
   "execution_count": 4,
   "id": "34ae2d22-4ff2-430b-9382-8bacc058c83e",
   "metadata": {},
   "outputs": [
    {
     "data": {
      "text/plain": [
       "a    10\n",
       "b    20\n",
       "c    30\n",
       "dtype: int64"
      ]
     },
     "execution_count": 4,
     "metadata": {},
     "output_type": "execute_result"
    }
   ],
   "source": [
    "pd.Series(my_list,index=labels)"
   ]
  },
  {
   "cell_type": "code",
   "execution_count": 5,
   "id": "c4bc1582-ea5a-4d70-91c7-f55c3f7128a8",
   "metadata": {},
   "outputs": [
    {
     "data": {
      "text/plain": [
       "0    10\n",
       "1    20\n",
       "2    30\n",
       "dtype: int64"
      ]
     },
     "execution_count": 5,
     "metadata": {},
     "output_type": "execute_result"
    }
   ],
   "source": [
    "pd.Series(arr)"
   ]
  },
  {
   "cell_type": "code",
   "execution_count": 6,
   "id": "a9520ef4-9959-4df9-a514-a94099da45dc",
   "metadata": {
    "editable": true,
    "slideshow": {
     "slide_type": ""
    },
    "tags": []
   },
   "outputs": [
    {
     "data": {
      "text/plain": [
       "1    10\n",
       "2    20\n",
       "3    30\n",
       "dtype: int64"
      ]
     },
     "execution_count": 6,
     "metadata": {},
     "output_type": "execute_result"
    }
   ],
   "source": [
    "pd.Series(d)"
   ]
  },
  {
   "cell_type": "code",
   "execution_count": null,
   "id": "0ef6833c-83f9-4126-a334-b82a33bcfcf5",
   "metadata": {},
   "outputs": [],
   "source": []
  },
  {
   "cell_type": "code",
   "execution_count": null,
   "id": "51e97536-f6d7-4c0e-85d5-6654e7c5cda9",
   "metadata": {},
   "outputs": [],
   "source": []
  }
 ],
 "metadata": {
  "kernelspec": {
   "display_name": "Python [conda env:base] *",
   "language": "python",
   "name": "conda-base-py"
  },
  "language_info": {
   "codemirror_mode": {
    "name": "ipython",
    "version": 3
   },
   "file_extension": ".py",
   "mimetype": "text/x-python",
   "name": "python",
   "nbconvert_exporter": "python",
   "pygments_lexer": "ipython3",
   "version": "3.13.5"
  }
 },
 "nbformat": 4,
 "nbformat_minor": 5
}
