{
 "cells": [
  {
   "cell_type": "code",
   "execution_count": 1,
   "id": "1285c5ae-eff2-44e5-abfb-ebe5ebab3165",
   "metadata": {},
   "outputs": [],
   "source": [
    "import numpy as np\n",
    "\n",
    "arr = np.array([2, 3, 4, 6, 7, 8, 9, 12, 13, 16, 17, 23, 25, 27, 34, 37, 201])"
   ]
  },
  {
   "cell_type": "code",
   "execution_count": 5,
   "id": "1ab4f967-5bf0-418e-9a6e-dbe13e2ec078",
   "metadata": {},
   "outputs": [
    {
     "data": {
      "text/plain": [
       "np.float64(18.0)"
      ]
     },
     "execution_count": 5,
     "metadata": {},
     "output_type": "execute_result"
    }
   ],
   "source": [
    "Q1 = np.percentile(arr,25)\n",
    "Q3 = np.percentile(arr,75)\n",
    "IQR = Q3 - Q1\n",
    "IQR"
   ]
  },
  {
   "cell_type": "code",
   "execution_count": 7,
   "id": "1959cec0-e6b2-48ff-a875-d4f287cdb949",
   "metadata": {},
   "outputs": [],
   "source": [
    "UF =  Q3 + 1.5*(IQR)\n",
    "LF =  Q1 - 1.5*(IQR)"
   ]
  },
  {
   "cell_type": "code",
   "execution_count": 8,
   "id": "c1071e2d-4bf8-49cf-a6fe-5c4e40cfc65e",
   "metadata": {},
   "outputs": [
    {
     "data": {
      "text/plain": [
       "np.float64(52.0)"
      ]
     },
     "execution_count": 8,
     "metadata": {},
     "output_type": "execute_result"
    }
   ],
   "source": [
    "UF"
   ]
  },
  {
   "cell_type": "code",
   "execution_count": 9,
   "id": "d12b3aa9-96e0-4dc9-be80-1fe5cc52a051",
   "metadata": {},
   "outputs": [
    {
     "data": {
      "text/plain": [
       "np.float64(-20.0)"
      ]
     },
     "execution_count": 9,
     "metadata": {},
     "output_type": "execute_result"
    }
   ],
   "source": [
    "LF"
   ]
  },
  {
   "cell_type": "code",
   "execution_count": 10,
   "id": "4ec8d8c6-f7f4-44b2-83a8-f11582f7d74c",
   "metadata": {},
   "outputs": [],
   "source": [
    "list = []\n",
    "for i in arr:\n",
    "    if i>= LF and i<= UF:\n",
    "        list.append(i)\n",
    "arr2 = np.array(list)"
   ]
  },
  {
   "cell_type": "code",
   "execution_count": 11,
   "id": "f2d9bded-3c31-4fc4-8ebc-7a03e68c6909",
   "metadata": {},
   "outputs": [
    {
     "data": {
      "text/plain": [
       "array([ 2,  3,  4,  6,  7,  8,  9, 12, 13, 16, 17, 23, 25, 27, 34, 37])"
      ]
     },
     "execution_count": 11,
     "metadata": {},
     "output_type": "execute_result"
    }
   ],
   "source": [
    "arr2"
   ]
  },
  {
   "cell_type": "code",
   "execution_count": null,
   "id": "36a88360-30aa-4f40-81f4-2c09e7093fbb",
   "metadata": {},
   "outputs": [],
   "source": [
    "import seaborn as sns\n",
    "sns."
   ]
  }
 ],
 "metadata": {
  "kernelspec": {
   "display_name": "Python [conda env:base] *",
   "language": "python",
   "name": "conda-base-py"
  },
  "language_info": {
   "codemirror_mode": {
    "name": "ipython",
    "version": 3
   },
   "file_extension": ".py",
   "mimetype": "text/x-python",
   "name": "python",
   "nbconvert_exporter": "python",
   "pygments_lexer": "ipython3",
   "version": "3.13.5"
  }
 },
 "nbformat": 4,
 "nbformat_minor": 5
}
