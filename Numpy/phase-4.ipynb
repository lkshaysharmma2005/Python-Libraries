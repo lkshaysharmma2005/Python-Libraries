{
 "cells": [
  {
   "cell_type": "code",
   "execution_count": 1,
   "id": "bbfaf078",
   "metadata": {},
   "outputs": [
    {
     "name": "stdout",
     "output_type": "stream",
     "text": [
      "Loaded array1:\n",
      " [[1 2 3]\n",
      " [4 5 6]]\n"
     ]
    }
   ],
   "source": [
    "import numpy as np\n",
    "\n",
    "# Create some arrays\n",
    "array1 = np.array([[1, 2, 3], [4, 5, 6]])\n",
    "array2 = np.random.rand(3, 3)   # 3x3 array with random values\n",
    "array3 = np.zeros((4, 4))       # 4x4 array filled with zeros\n",
    "\n",
    "# Save arrays to .npy files\n",
    "np.save('array1.npy', array1)\n",
    "np.save('array2.npy', array2)\n",
    "np.save('array3.npy', array3)\n",
    "\n",
    "# Load array1 back from file\n",
    "loaded_array1 = np.load('array1.npy')\n",
    "print(\"Loaded array1:\\n\", loaded_array1)\n"
   ]
  },
  {
   "cell_type": "code",
   "execution_count": null,
   "id": "802bd647",
   "metadata": {},
   "outputs": [],
   "source": []
  }
 ],
 "metadata": {
  "kernelspec": {
   "display_name": ".venv",
   "language": "python",
   "name": "python3"
  },
  "language_info": {
   "codemirror_mode": {
    "name": "ipython",
    "version": 3
   },
   "file_extension": ".py",
   "mimetype": "text/x-python",
   "name": "python",
   "nbconvert_exporter": "python",
   "pygments_lexer": "ipython3",
   "version": "3.11.9"
  }
 },
 "nbformat": 4,
 "nbformat_minor": 5
}
