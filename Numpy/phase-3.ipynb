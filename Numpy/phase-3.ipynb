{
 "cells": [
  {
   "cell_type": "code",
   "execution_count": 1,
   "id": "3a162108",
   "metadata": {},
   "outputs": [],
   "source": [
    "import numpy as np \n",
    "import matplotlib.pyplot as plt"
   ]
  },
  {
   "cell_type": "code",
   "execution_count": null,
   "id": "f449befb",
   "metadata": {},
   "outputs": [
    {
     "name": "stdout",
     "output_type": "stream",
     "text": [
      "==== Zomato sales analysis ====\n",
      "\n",
      " Sales data shape:  (5, 5)\n",
      "\n",
      " Sample data for first three resturant:\n",
      "  [[     1 150000 180000 220000 250000]\n",
      " [     2 120000 140000 160000 190000]\n",
      " [     3 200000 230000 260000 300000]]\n"
     ]
    }
   ],
   "source": [
    "import numpy as np  \n",
    "\n",
    "# Data structure: [restaurant_id, 2021, 2022, 2023, 2024]  \n",
    "sales_data = np.array([  \n",
    "    [1, 150000, 180000, 220000, 250000],  # Paradise Biryani  \n",
    "    [2, 120000, 140000, 160000, 190000],  # Beijing Bites  \n",
    "    [3, 200000, 230000, 260000, 300000],  # Pizza Hub  \n",
    "    [4, 180000, 210000, 240000, 270000],  # Burger Point  \n",
    "    [5, 160000, 185000, 205000, 230000]   # Chai Point  \n",
    "])  \n",
    "\n",
    "print(\"==== Zomato sales analysis ====\")\n",
    "print(\"\\n Sales data shape: \", sales_data.shape)\n",
    "print(\"\\n Sample data for first three restaurant:\\n \", sales_data[:3])"
   ]
  },
  {
   "cell_type": "code",
   "execution_count": null,
   "id": "bb1fe6d4",
   "metadata": {},
   "outputs": [
    {
     "name": "stdout",
     "output_type": "stream",
     "text": [
      "[     15  810000  945000 1085000 1240000]\n",
      "[ 810000  945000 1085000 1240000]\n",
      "[150000 120000 200000 180000 160000]\n",
      "[200000 230000 260000 300000]\n",
      "[200000. 152500. 247500. 225000. 195000.]\n"
     ]
    }
   ],
   "source": [
    "print(np.sum(sales_data, axis=0))\n",
    "\n",
    "year_total = np.sum(sales_data[:, 1:], axis=0)\n",
    "print(year_total)\n",
    "\n",
    "min_sales_per_restaurant = np.min(sales_data[:, 1:], axis=1)\n",
    "print(min_sales_per_restaurant)\n",
    "\n",
    "max_sales_per_year = np.max(sales_data[:, 1:], axis=0)\n",
    "print(max_sales_per_year)\n",
    "\n",
    "avg_sales_per_restaurant = np.mean(sales_data[:, 1:], axis=1)\n",
    "print(avg_sales_per_restaurant)"
   ]
  },
  {
   "cell_type": "code",
   "execution_count": 21,
   "id": "aee359db",
   "metadata": {},
   "outputs": [
    {
     "name": "stdout",
     "output_type": "stream",
     "text": [
      "[[150000 330000 550000 800000]\n",
      " [120000 260000 420000 610000]\n",
      " [200000 430000 690000 990000]\n",
      " [180000 390000 630000 900000]\n",
      " [160000 345000 550000 780000]]\n"
     ]
    }
   ],
   "source": [
    "cumulative_sum = np.cumsum(sales_data[:, 1:], axis=1)\n",
    "print(cumulative_sum)"
   ]
  },
  {
   "cell_type": "code",
   "execution_count": 22,
   "id": "7cf4f4b7",
   "metadata": {},
   "outputs": [
    {
     "name": "stdout",
     "output_type": "stream",
     "text": [
      "Vector addition:  [ 7  9 11 13 15]\n",
      "\n",
      "Multiplication vector:  [ 6 14 24 36 50]\n",
      "\n",
      "Dot Product:  130\n",
      "\n",
      "Angle between vectors (radians): 0.26554161733900966\n",
      "Angle between vectors (degrees): 15.214413958603176\n"
     ]
    }
   ],
   "source": [
    "# Define vectors\n",
    "vector1 = np.array([1, 2, 3, 4, 5])\n",
    "vector2 = np.array([6, 7, 8, 9, 10])\n",
    "\n",
    "# Vector addition\n",
    "print(\"Vector addition: \", vector1 + vector2)\n",
    "\n",
    "# Element-wise multiplication\n",
    "print(\"\\nMultiplication vector: \", vector1 * vector2)\n",
    "\n",
    "# Dot product\n",
    "dot_product = np.dot(vector1, vector2)\n",
    "print(\"\\nDot Product: \", dot_product)\n",
    "\n",
    "# Angle between vectors (in radians and degrees)\n",
    "angle = np.arccos(dot_product / (np.linalg.norm(vector1) * np.linalg.norm(vector2)))\n",
    "print(\"\\nAngle between vectors (radians):\", angle)\n",
    "print(\"Angle between vectors (degrees):\", np.degrees(angle))\n"
   ]
  },
  {
   "cell_type": "code",
   "execution_count": 24,
   "id": "15cd9406",
   "metadata": {},
   "outputs": [
    {
     "name": "stdout",
     "output_type": "stream",
     "text": [
      "['BIRYANI' 'FRIED RICE' 'OREO' 'BURGER' 'PIZZA']\n"
     ]
    }
   ],
   "source": [
    "restaurant_types = np.array(['biryani','fried rice','oreo','burger','pizza'])\n",
    "\n",
    "vectorize_op = np.vectorize(str.upper)\n",
    "\n",
    "print(vectorize_op(restaurant_types))"
   ]
  },
  {
   "cell_type": "markdown",
   "id": "c967e875",
   "metadata": {},
   "source": [
    "## Broadcasting"
   ]
  },
  {
   "cell_type": "code",
   "execution_count": 25,
   "id": "2d5ee05f",
   "metadata": {},
   "outputs": [
    {
     "name": "stdout",
     "output_type": "stream",
     "text": [
      "[[12500.         15000.         18333.33333333 20833.33333333]\n",
      " [10000.         11666.66666667 13333.33333333 15833.33333333]\n",
      " [16666.66666667 19166.66666667 21666.66666667 25000.        ]\n",
      " [15000.         17500.         20000.         22500.        ]\n",
      " [13333.33333333 15416.66666667 17083.33333333 19166.66666667]]\n"
     ]
    }
   ],
   "source": [
    "monthly_avg = sales_data[:, 1:] / 12\n",
    "print(monthly_avg)"
   ]
  },
  {
   "cell_type": "code",
   "execution_count": null,
   "id": "3422c933",
   "metadata": {},
   "outputs": [],
   "source": []
  }
 ],
 "metadata": {
  "kernelspec": {
   "display_name": ".venv",
   "language": "python",
   "name": "python3"
  },
  "language_info": {
   "codemirror_mode": {
    "name": "ipython",
    "version": 3
   },
   "file_extension": ".py",
   "mimetype": "text/x-python",
   "name": "python",
   "nbconvert_exporter": "python",
   "pygments_lexer": "ipython3",
   "version": "3.11.9"
  }
 },
 "nbformat": 4,
 "nbformat_minor": 5
}
