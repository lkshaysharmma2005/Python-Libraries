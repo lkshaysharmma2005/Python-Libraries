{
 "cells": [
  {
   "cell_type": "markdown",
   "id": "7909bf33",
   "metadata": {},
   "source": [
    "## Numpy , arrays and basics\n",
    "Learning numpy basics and arrays |"
   ]
  },
  {
   "cell_type": "code",
   "execution_count": 1,
   "id": "5858ec01",
   "metadata": {},
   "outputs": [],
   "source": [
    "import numpy  as np"
   ]
  },
  {
   "cell_type": "markdown",
   "id": "44280c8c",
   "metadata": {},
   "source": [
    "Creating array from list"
   ]
  },
  {
   "cell_type": "code",
   "execution_count": 3,
   "id": "e2493a38",
   "metadata": {},
   "outputs": [
    {
     "name": "stdout",
     "output_type": "stream",
     "text": [
      "1D array :  [1 2 3]\n",
      "2D array :  [[1 2 3]\n",
      " [4 5 6]]\n"
     ]
    }
   ],
   "source": [
    "arr_1d = np.array([1,2,3])\n",
    "print(\"1D array : \", arr_1d)\n",
    "\n",
    "arr_2d = np.array([[1,2,3] , [4,5,6]])\n",
    "print(\"2D array : \", arr_2d)"
   ]
  },
  {
   "cell_type": "markdown",
   "id": "53a3bb81",
   "metadata": {},
   "source": [
    "### List vs numpy array"
   ]
  },
  {
   "cell_type": "code",
   "execution_count": 8,
   "id": "b58061ef",
   "metadata": {},
   "outputs": [
    {
     "name": "stdout",
     "output_type": "stream",
     "text": [
      "Mltiply of list by 2 :  [1, 2, 3, 1, 2, 3]\n",
      "Mltiply of array by 2 :  [2 4 6]\n",
      "\n",
      " Run time of py_list:  6.954377174377441\n",
      "\n",
      " Run time of py_array:  0.6420471668243408\n"
     ]
    }
   ],
   "source": [
    "py_list = [1,2,3]\n",
    "print(\"Mltiply of list by 2 : \", py_list*2)\n",
    "\n",
    "py_array = np.array([1,2,3])\n",
    "print(\"Mltiply of array by 2 : \", py_array*2)\n",
    "\n",
    "import time \n",
    "\n",
    "start = time.time()\n",
    "py_list = [i*2 for i in range(100000000)]\n",
    "print(\"\\n Run time of py_list: \", time.time()-start)\n",
    "\n",
    "start = time.time()\n",
    "py_array = np.arange(100000000) *2\n",
    "print(\"\\n Run time of py_array: \", time.time()-start)\n"
   ]
  },
  {
   "cell_type": "code",
   "execution_count": 14,
   "id": "38207bf9",
   "metadata": {},
   "outputs": [
    {
     "name": "stdout",
     "output_type": "stream",
     "text": [
      "zeros array: \n",
      " [[0. 0. 0. 0.]\n",
      " [0. 0. 0. 0.]\n",
      " [0. 0. 0. 0.]\n",
      " [0. 0. 0. 0.]]\n",
      "ones array: \n",
      " [[1. 1. 1.]\n",
      " [1. 1. 1.]\n",
      " [1. 1. 1.]]\n",
      "full array: \n",
      " [[7 7 7]\n",
      " [7 7 7]\n",
      " [7 7 7]]\n",
      "random array: \n",
      " [[0.70324368 0.11050015 0.54022949]\n",
      " [0.25054959 0.24415645 0.27639458]\n",
      " [0.9790276  0.78941939 0.29281528]]\n",
      "sequence array: \n",
      " [0 2 4 6 8]\n"
     ]
    }
   ],
   "source": [
    "zeros = np.zeros((4,4))\n",
    "print(\"zeros array: \\n\", zeros)\n",
    "\n",
    "ones = np.ones((3,3))\n",
    "print(\"ones array: \\n\", ones)\n",
    "\n",
    "full = np.full((3,3), 7)\n",
    "print(\"full array: \\n\", full)\n",
    "\n",
    "random = np.random.random((3,3))\n",
    "print(\"random array: \\n\", random)\n",
    "\n",
    "sequence = np.arange(0,10,2)\n",
    "print(\"sequence array: \\n\", sequence)\n"
   ]
  },
  {
   "cell_type": "markdown",
   "id": "43c5bec5",
   "metadata": {},
   "source": [
    "### Vector, Matrix and Tensor"
   ]
  },
  {
   "cell_type": "code",
   "execution_count": 15,
   "id": "24b02b61",
   "metadata": {},
   "outputs": [
    {
     "name": "stdout",
     "output_type": "stream",
     "text": [
      "vector array: \n",
      " [1 2 3]\n",
      "matrix array: \n",
      " [[1 2 3]\n",
      " [4 5 6]]\n",
      "tensor array: \n",
      " [[[ 1  2]\n",
      "  [ 3  4]]\n",
      "\n",
      " [[ 5  6]\n",
      "  [ 7  8]]\n",
      "\n",
      " [[ 8  9]\n",
      "  [ 9 10]]]\n"
     ]
    }
   ],
   "source": [
    "Vector = np.array([1,2,3])\n",
    "print(\"vector array: \\n\", Vector)\n",
    "\n",
    "matrix = np.array([[1,2,3],[4,5,6]])\n",
    "print(\"matrix array: \\n\", matrix)\n",
    "\n",
    "tensor = np.array([[[1,2], [3,4]],\n",
    "                  [[5,6],[7,8]],\n",
    "                  [[8,9],[9,10]]])\n",
    "print(\"tensor array: \\n\", tensor)"
   ]
  },
  {
   "cell_type": "markdown",
   "id": "c6089379",
   "metadata": {},
   "source": [
    "### Array properties"
   ]
  },
  {
   "cell_type": "code",
   "execution_count": 16,
   "id": "805a2264",
   "metadata": {},
   "outputs": [
    {
     "name": "stdout",
     "output_type": "stream",
     "text": [
      "shape  (2, 3)\n",
      "dimension  2\n",
      "size  6\n",
      "data_type  int64\n"
     ]
    }
   ],
   "source": [
    "arr = np.array([[1,2,3],[4,5,6]])\n",
    "\n",
    "print(\"shape \", arr.shape)\n",
    "print(\"dimension \", arr.ndim)\n",
    "print(\"size \", arr.size)\n",
    "print(\"data_type \", arr.dtype)"
   ]
  },
  {
   "cell_type": "code",
   "execution_count": 24,
   "id": "948abba3",
   "metadata": {},
   "outputs": [
    {
     "name": "stdout",
     "output_type": "stream",
     "text": [
      "Array: \n",
      " [0 1 2 3 4 5 6 7 8]\n",
      "\n",
      " Reshaped array: \n",
      " [[0 1 2]\n",
      " [3 4 5]\n",
      " [6 7 8]]\n",
      "\n",
      " Flatten array: \n",
      " [0 1 2 3 4 5 6 7 8]\n",
      "\n",
      " raveled array: \n",
      " [0 1 2 3 4 5 6 7 8]\n",
      "\n",
      " Transposed array: \n",
      " [[0 3 6]\n",
      " [1 4 7]\n",
      " [2 5 8]]\n"
     ]
    }
   ],
   "source": [
    "array = np.arange(9)\n",
    "print(\"Array: \\n\", array)\n",
    "\n",
    "reshaped = array.reshape((3,3))\n",
    "print(\"\\n Reshaped array: \\n\", reshaped)\n",
    "\n",
    "# return a copy\n",
    "flattened = reshaped.flatten()\n",
    "print(\"\\n Flatten array: \\n\", flattened)\n",
    "\n",
    "# make changes in the original array and return it\n",
    "raveled = reshaped.ravel()\n",
    "print(\"\\n raveled array: \\n\", raveled)\n",
    "\n",
    "Transposed = reshaped.T\n",
    "print(\"\\n Transposed array: \\n\", Transposed)"
   ]
  },
  {
   "cell_type": "code",
   "execution_count": null,
   "id": "f34f9722",
   "metadata": {},
   "outputs": [],
   "source": []
  }
 ],
 "metadata": {
  "kernelspec": {
   "display_name": ".venv",
   "language": "python",
   "name": "python3"
  },
  "language_info": {
   "codemirror_mode": {
    "name": "ipython",
    "version": 3
   },
   "file_extension": ".py",
   "mimetype": "text/x-python",
   "name": "python",
   "nbconvert_exporter": "python",
   "pygments_lexer": "ipython3",
   "version": "3.11.9"
  }
 },
 "nbformat": 4,
 "nbformat_minor": 5
}
