{
 "cells": [
  {
   "cell_type": "markdown",
   "id": "34d871fd",
   "metadata": {},
   "source": [
    "## Numpy Array Operations"
   ]
  },
  {
   "cell_type": "code",
   "execution_count": 20,
   "id": "110de3ef",
   "metadata": {},
   "outputs": [],
   "source": [
    "import numpy as np "
   ]
  },
  {
   "cell_type": "code",
   "execution_count": 21,
   "id": "a496e07a",
   "metadata": {},
   "outputs": [
    {
     "name": "stdout",
     "output_type": "stream",
     "text": [
      "Basic_slicing:  [3 4 5 6 7]\n",
      "with step:  [2 4 6 8]\n",
      "Negative Indexing:  8\n"
     ]
    }
   ],
   "source": [
    "arr = np.array([1,2,3,4,5,6,7,8,9,10])\n",
    "print(\"Basic_slicing: \", arr[2:7])\n",
    "print(\"with step: \", arr[1:8:2])\n",
    "print(\"Negative Indexing: \", arr[-3])"
   ]
  },
  {
   "cell_type": "code",
   "execution_count": 22,
   "id": "43ca47e4",
   "metadata": {},
   "outputs": [
    {
     "name": "stdout",
     "output_type": "stream",
     "text": [
      "Specific element:  4\n",
      "Entire row:  [4 5 6]\n",
      "Entire col:  [2 5 8]\n"
     ]
    }
   ],
   "source": [
    "arr_2d = np.array([[1,2,3],\n",
    "                   [4,5,6],\n",
    "                   [7,8,9]])\n",
    "\n",
    "print(\"Specific element: \", arr_2d[1,0])\n",
    "print(\"Entire row: \", arr_2d[1])\n",
    "print(\"Entire col: \", arr_2d[:, 1])"
   ]
  },
  {
   "cell_type": "markdown",
   "id": "0d0bb5c8",
   "metadata": {},
   "source": []
  },
  {
   "cell_type": "markdown",
   "id": "e27c8e41",
   "metadata": {},
   "source": [
    "## Sorting"
   ]
  },
  {
   "cell_type": "code",
   "execution_count": 23,
   "id": "eaf6c69e",
   "metadata": {},
   "outputs": [
    {
     "name": "stdout",
     "output_type": "stream",
     "text": [
      "sorted array: \n",
      " [1 2 2 3 3 5 6 7 7 9 9]\n",
      "sorted 2d array in column:\n",
      "  [[1 1]\n",
      " [2 2]\n",
      " [3 3]]\n",
      "sorted 2d array in row: \n",
      " [[1 3]\n",
      " [1 2]\n",
      " [2 3]]\n"
     ]
    }
   ],
   "source": [
    "unsorted = np.array([9,6,3,7,1,2,5,2,9,7,3])\n",
    "print(\"sorted array: \\n\", np.sort(unsorted))\n",
    "\n",
    "unsorted_2d_array = np.array([[3,1],[1,2],[2,3]])\n",
    "print(\"sorted 2d array in column:\\n \", np.sort(unsorted_2d_array, axis=0))\n",
    "print(\"sorted 2d array in row: \\n\", np.sort(unsorted_2d_array, axis=1))"
   ]
  },
  {
   "cell_type": "markdown",
   "id": "fb495625",
   "metadata": {},
   "source": [
    "## Filter"
   ]
  },
  {
   "cell_type": "code",
   "execution_count": 24,
   "id": "61751acf",
   "metadata": {},
   "outputs": [
    {
     "name": "stdout",
     "output_type": "stream",
     "text": [
      "[ 2  4  6  8 10]\n"
     ]
    }
   ],
   "source": [
    "numbers = np.array([1,2,3,4,5,6,7,8,9,10])\n",
    "even_numbers = numbers[numbers % 2 == 0]\n",
    "print(even_numbers)"
   ]
  },
  {
   "cell_type": "markdown",
   "id": "11352fde",
   "metadata": {},
   "source": [
    "## Filter with mask\n"
   ]
  },
  {
   "cell_type": "code",
   "execution_count": 25,
   "id": "8b73dfbc",
   "metadata": {},
   "outputs": [
    {
     "name": "stdout",
     "output_type": "stream",
     "text": [
      "numbers greater than 5 :  [ 6  7  8  9 10]\n"
     ]
    }
   ],
   "source": [
    "mask = numbers > 5\n",
    "print(\"numbers greater than 5 : \", numbers[mask])"
   ]
  },
  {
   "cell_type": "markdown",
   "id": "e34e1d1a",
   "metadata": {},
   "source": [
    "## Fancy Indexing vs np.where()"
   ]
  },
  {
   "cell_type": "code",
   "execution_count": 26,
   "id": "e7aeaf28",
   "metadata": {},
   "outputs": [
    {
     "name": "stdout",
     "output_type": "stream",
     "text": [
      "[1 3 5]\n",
      "Numbers lesser then 5:  [1 2 3 4]\n"
     ]
    }
   ],
   "source": [
    "indecis = [0,2,4]\n",
    "print(numbers[indecis])\n",
    "\n",
    "where_result = np.where(numbers<5)\n",
    "print(\"Numbers lesser then 5: \", numbers[where_result])\n"
   ]
  },
  {
   "cell_type": "code",
   "execution_count": 27,
   "id": "e1788696",
   "metadata": {},
   "outputs": [
    {
     "name": "stdout",
     "output_type": "stream",
     "text": [
      "[ 1  2  3  4  5 24 28 32 36 40]\n"
     ]
    }
   ],
   "source": [
    "condition = np.where(numbers>5,numbers*4, numbers)\n",
    "print(condition)"
   ]
  },
  {
   "cell_type": "markdown",
   "id": "ee5ecb9f",
   "metadata": {},
   "source": [
    "## Adding and Removing data\n"
   ]
  },
  {
   "cell_type": "code",
   "execution_count": 28,
   "id": "ab159867",
   "metadata": {},
   "outputs": [
    {
     "name": "stdout",
     "output_type": "stream",
     "text": [
      "[1 2 3 4 5 6]\n"
     ]
    }
   ],
   "source": [
    "arr1 = np.array([1,2,3])\n",
    "arr2 = np.array([4,5,6])\n",
    "\n",
    "combined = np.concatenate((arr1,arr2))\n",
    "print(combined)"
   ]
  },
  {
   "cell_type": "markdown",
   "id": "f13cd4f6",
   "metadata": {},
   "source": [
    "### Compatibilty array"
   ]
  },
  {
   "cell_type": "code",
   "execution_count": 29,
   "id": "28427d80",
   "metadata": {},
   "outputs": [
    {
     "name": "stdout",
     "output_type": "stream",
     "text": [
      "Compatibility test:  True\n"
     ]
    }
   ],
   "source": [
    "array1 = np.array([1,2,3])\n",
    "array2 = np.array([4,5,6])\n",
    "array3 = np.array([7,8,9])\n",
    "\n",
    "print(\"Compatibility test: \", array1.shape == array2.shape)"
   ]
  },
  {
   "cell_type": "code",
   "execution_count": 32,
   "id": "77d04dfb",
   "metadata": {},
   "outputs": [
    {
     "name": "stdout",
     "output_type": "stream",
     "text": [
      "[[1 2]\n",
      " [3 4]] \n",
      "\n",
      "[[1 2]\n",
      " [3 4]\n",
      " [5 6]] \n",
      "\n",
      "[[1]\n",
      " [3]] \n",
      "\n",
      "[[1 5]\n",
      " [3 9]]\n"
     ]
    }
   ],
   "source": [
    "original = np.array([[1,2],[3,4]])\n",
    "\n",
    "new_row = np.array([5,6])\n",
    "\n",
    "with_new_row = np.vstack((original,new_row))\n",
    "print(original,\"\\n\")\n",
    "print(with_new_row,\"\\n\")\n",
    "\n",
    "\n",
    "original_array = np.array([[1],[3]])\n",
    "\n",
    "new_column = np.array([[5],[9]])\n",
    "\n",
    "with_new_column = np.hstack((original_array,new_column))\n",
    "print(original_array,\"\\n\")\n",
    "print(with_new_column)"
   ]
  },
  {
   "cell_type": "code",
   "execution_count": 35,
   "id": "d5bd0999",
   "metadata": {},
   "outputs": [
    {
     "name": "stdout",
     "output_type": "stream",
     "text": [
      "Array after deletion:  [1 2 4 5]\n"
     ]
    }
   ],
   "source": [
    "before_deletion = np.array([1,2,3,4,5])\n",
    "new_arr = np.delete(before_deletion,2)\n",
    "\n",
    "print(\"Array after deletion: \",new_arr)"
   ]
  },
  {
   "cell_type": "code",
   "execution_count": null,
   "id": "936fb992",
   "metadata": {},
   "outputs": [],
   "source": []
  }
 ],
 "metadata": {
  "kernelspec": {
   "display_name": ".venv",
   "language": "python",
   "name": "python3"
  },
  "language_info": {
   "codemirror_mode": {
    "name": "ipython",
    "version": 3
   },
   "file_extension": ".py",
   "mimetype": "text/x-python",
   "name": "python",
   "nbconvert_exporter": "python",
   "pygments_lexer": "ipython3",
   "version": "3.11.9"
  }
 },
 "nbformat": 4,
 "nbformat_minor": 5
}
